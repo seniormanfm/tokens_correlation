{
 "cells": [
  {
   "cell_type": "markdown",
   "id": "900c9d46",
   "metadata": {},
   "source": [
    "# load joblib\n"
   ]
  },
  {
   "cell_type": "code",
   "execution_count": 1,
   "id": "25009727",
   "metadata": {},
   "outputs": [
    {
     "ename": "ModuleNotFoundError",
     "evalue": "No module named 'joblib'",
     "output_type": "error",
     "traceback": [
      "\u001b[31m---------------------------------------------------------------------------\u001b[39m",
      "\u001b[31mModuleNotFoundError\u001b[39m                       Traceback (most recent call last)",
      "\u001b[36mCell\u001b[39m\u001b[36m \u001b[39m\u001b[32mIn[1]\u001b[39m\u001b[32m, line 1\u001b[39m\n\u001b[32m----> \u001b[39m\u001b[32m1\u001b[39m \u001b[38;5;28;01mimport\u001b[39;00m\u001b[38;5;250m \u001b[39m\u001b[34;01mjoblib\u001b[39;00m\n\u001b[32m      2\u001b[39m \u001b[38;5;28;01mimport\u001b[39;00m\u001b[38;5;250m \u001b[39m\u001b[34;01mmatplotlib\u001b[39;00m\u001b[34;01m.\u001b[39;00m\u001b[34;01mpyplot\u001b[39;00m\u001b[38;5;250m \u001b[39m\u001b[38;5;28;01mas\u001b[39;00m\u001b[38;5;250m \u001b[39m\u001b[34;01mplt\u001b[39;00m\n\u001b[32m      3\u001b[39m \u001b[38;5;28;01mimport\u001b[39;00m\u001b[38;5;250m \u001b[39m\u001b[34;01mseaborn\u001b[39;00m\u001b[38;5;250m \u001b[39m\u001b[38;5;28;01mas\u001b[39;00m\u001b[38;5;250m \u001b[39m\u001b[34;01msns\u001b[39;00m\n",
      "\u001b[31mModuleNotFoundError\u001b[39m: No module named 'joblib'"
     ]
    }
   ],
   "source": [
    "import joblib\n",
    "import matplotlib.pyplot as plt\n",
    "import seaborn as sns\n",
    "import numpy as np\n",
    "\n",
    "# Load the DataFrame\n",
    "save_path = \"/Users/olaoluwatunmise/token-heatmap/Database/df_prices.joblib\"\n",
    "df_prices_loaded = joblib.load(save_path)\n",
    "\n",
    "print(df_prices_loaded.head())"
   ]
  },
  {
   "cell_type": "markdown",
   "id": "223bd958",
   "metadata": {},
   "source": [
    "# Token Correlation Heatmap"
   ]
  },
  {
   "cell_type": "code",
   "execution_count": null,
   "id": "03b7b13f",
   "metadata": {},
   "outputs": [],
   "source": [
    "# Calculate the correlation matrix\n",
    "corr = df_prices_loaded.corr()\n",
    "\n",
    "# Plot the heatmap\n",
    "plt.figure(figsize=(8, 6))\n",
    "sns.heatmap(corr, annot=True, cmap='coolwarm', vmin=-1, vmax=1)\n",
    "plt.title(\"Token Correlation Heatmap\")\n",
    "plt.show()"
   ]
  },
  {
   "cell_type": "markdown",
   "id": "6ae105c2",
   "metadata": {},
   "source": [
    "# Token Volatility"
   ]
  },
  {
   "cell_type": "code",
   "execution_count": null,
   "id": "e6143547",
   "metadata": {},
   "outputs": [],
   "source": [
    "# Compute volatility (standard deviation of returns) for each token\n",
    "\n",
    "# Calculate log returns\n",
    "returns = df_prices_loaded.pct_change().apply(lambda x: np.log1p(x))\n",
    "\n",
    "# Compute volatility (standard deviation of log returns)\n",
    "volatility = returns.std()\n",
    "\n",
    "print(\"Volatility for each token:\")\n",
    "print(volatility)"
   ]
  },
  {
   "cell_type": "markdown",
   "id": "f44531b2",
   "metadata": {},
   "source": [
    "# Correlation of Tokens Return"
   ]
  },
  {
   "cell_type": "code",
   "execution_count": null,
   "id": "30a8f7c4",
   "metadata": {},
   "outputs": [],
   "source": [
    "print(returns.head())"
   ]
  },
  {
   "cell_type": "markdown",
   "id": "04756947",
   "metadata": {},
   "source": [
    "# Calculate the correlation matrix\n",
    "corr = returns.corr()\n",
    "\n",
    "# Plot the heatmap\n",
    "plt.figure(figsize=(8, 6))\n",
    "sns.heatmap(corr, annot=True, cmap='coolwarm', vmin=-1, vmax=1)\n",
    "plt.title(\"Token Correlation Heatmap\")\n",
    "plt.show()"
   ]
  }
 ],
 "metadata": {
  "kernelspec": {
   "display_name": "token_correlation",
   "language": "python",
   "name": "python3"
  },
  "language_info": {
   "codemirror_mode": {
    "name": "ipython",
    "version": 3
   },
   "file_extension": ".py",
   "mimetype": "text/x-python",
   "name": "python",
   "nbconvert_exporter": "python",
   "pygments_lexer": "ipython3",
   "version": "3.13.6"
  }
 },
 "nbformat": 4,
 "nbformat_minor": 5
}
