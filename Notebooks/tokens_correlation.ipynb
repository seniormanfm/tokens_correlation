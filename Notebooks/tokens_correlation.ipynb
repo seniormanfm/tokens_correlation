import joblib
import matplotlib.pyplot as plt
import seaborn as sns
import numpy as np

# Load the DataFrame
save_path = "/Users/olaoluwatunmise/token-heatmap/Database/df_prices.joblib"
df_prices_loaded = joblib.load(save_path)

print(df_prices_loaded.head())