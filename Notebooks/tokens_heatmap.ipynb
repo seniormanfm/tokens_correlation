{
 "cells": [
  {
   "cell_type": "markdown",
   "id": "48ce0f0c",
   "metadata": {},
   "source": [
    "# crypto token correllation Heatmap"
   ]
  },
  {
   "cell_type": "code",
   "execution_count": 2,
   "id": "86c416bb",
   "metadata": {},
   "outputs": [
    {
     "name": "stdout",
     "output_type": "stream",
     "text": [
      "{\"status\":{\"error_code\":10002,\"error_message\":\"API Key Missing\"}}\n"
     ]
    }
   ],
   "source": [
    "import os\n",
    "from dotenv import load_dotenv\n",
    "import requests\n",
    "import pandas as pd\n",
    "\n",
    "load_dotenv()  # Load environment variables from .env\n",
    "\n",
    "api_key = os.getenv(\"GECKO_API\")  # Get API key from .env\n",
    "coin_id = \"bitcoin\"\n",
    "vs_currency = \"usd\"\n",
    "days = \"30\"\n",
    "\n",
    "url = f\"https://pro-api.coingecko.com/api/v3/coins/{coin_id}/market_chart\"\n",
    "params = {\n",
    "    \"vs_currency\": vs_currency,\n",
    "    \"days\": days\n",
    "}\n",
    "headers = {\n",
    "    \"accept\": \"application/json\",\n",
    "    \"x-cg-pro-api-key\": api_key\n",
    "}\n",
    "\n",
    "response = requests.get(url, headers=headers, params=params)\n",
    "print(response.text)\n"
   ]
  },
  {
   "cell_type": "code",
   "execution_count": 3,
   "id": "0ab776c4",
   "metadata": {},
   "outputs": [
    {
     "name": "stdout",
     "output_type": "stream",
     "text": [
      "API Key: None\n"
     ]
    }
   ],
   "source": [
    "print(\"API Key:\", api_key)\n"
   ]
  },
  {
   "cell_type": "code",
   "execution_count": 4,
   "id": "7de13f15",
   "metadata": {},
   "outputs": [
    {
     "name": "stdout",
     "output_type": "stream",
     "text": [
      "None\n"
     ]
    }
   ],
   "source": [
    "names = os.getenv(\"name\")\n",
    "\n",
    "print(names)\n"
   ]
  }
 ],
 "metadata": {
  "kernelspec": {
   "display_name": "token_correlation",
   "language": "python",
   "name": "python3"
  },
  "language_info": {
   "codemirror_mode": {
    "name": "ipython",
    "version": 3
   },
   "file_extension": ".py",
   "mimetype": "text/x-python",
   "name": "python",
   "nbconvert_exporter": "python",
   "pygments_lexer": "ipython3",
   "version": "3.13.6"
  }
 },
 "nbformat": 4,
 "nbformat_minor": 5
}
