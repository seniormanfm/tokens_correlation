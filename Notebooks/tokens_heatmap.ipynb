{
 "cells": [
  {
   "cell_type": "markdown",
   "id": "48ce0f0c",
   "metadata": {},
   "source": [
    "# crypto token correllation Heatmap"
   ]
  },
  {
   "cell_type": "code",
   "execution_count": 3,
   "id": "86c416bb",
   "metadata": {},
   "outputs": [
    {
     "name": "stdout",
     "output_type": "stream",
     "text": [
      "{\"status\":{\"timestamp\":\"2025-08-21T10:10:03.973+00:00\",\"error_code\":10002,\"error_message\":\"API Key Missing. Please make sure you're using the right authentication method.  For Pro API, please visit: https://docs.coingecko.com/reference/authentication.  For Public/Demo API, please visit: https://docs.coingecko.com/v3.0.1/reference/introduction\"}}\n"
     ]
    }
   ],
   "source": [
    "import os\n",
    "from dotenv import load_dotenv\n",
    "import requests\n",
    "import pandas as pd\n",
    "\n",
    "load_dotenv()  # Load environment variables from .env\n",
    "\n",
    "api_key = os.getenv(\"GECKO_API\")  # Get API key from .env\n",
    "coin_id = \"bitcoin\"\n",
    "vs_currency = \"usd\"\n",
    "days = \"30\"\n",
    "\n",
    "url = f\"https://pro-api.coingecko.com/api/v3/coins/{coin_id}/market_chart\"\n",
    "params = {\n",
    "    \"vs_currency\": vs_currency,\n",
    "    \"days\": days\n",
    "}\n",
    "headers = {\n",
    "    \"accept\": \"application/json\",\n",
    "    \"x-cg-pro-api-key\": api_key\n",
    "}\n",
    "\n",
    "response = requests.get(url, headers=headers, params=params)\n",
    "print(response.text)\n"
   ]
  },
  {
   "cell_type": "code",
   "execution_count": 1,
   "id": "0ab776c4",
   "metadata": {},
   "outputs": [
    {
     "ename": "NameError",
     "evalue": "name 'api_key' is not defined",
     "output_type": "error",
     "traceback": [
      "\u001b[31m---------------------------------------------------------------------------\u001b[39m",
      "\u001b[31mNameError\u001b[39m                                 Traceback (most recent call last)",
      "\u001b[36mCell\u001b[39m\u001b[36m \u001b[39m\u001b[32mIn[1]\u001b[39m\u001b[32m, line 1\u001b[39m\n\u001b[32m----> \u001b[39m\u001b[32m1\u001b[39m \u001b[38;5;28mprint\u001b[39m(\u001b[43mapi_key\u001b[49m)\n",
      "\u001b[31mNameError\u001b[39m: name 'api_key' is not defined"
     ]
    }
   ],
   "source": [
    "print(api_key)\n"
   ]
  },
  {
   "cell_type": "code",
   "execution_count": null,
   "id": "64011617",
   "metadata": {},
   "outputs": [],
   "source": [
    "data = response.json()\n",
    "\n",
    "# Convert 'prices' to DataFrame\n",
    "df = pd.DataFrame(data['prices'], columns=['timestamp', 'price'])\n",
    "df['timestamp'] = pd.to_datetime(df['timestamp'], unit='ms')\n",
    "\n",
    "print(df.head())"
   ]
  },
  {
   "cell_type": "markdown",
   "id": "87a5364b",
   "metadata": {},
   "source": [
    "# Create Function"
   ]
  },
  {
   "cell_type": "code",
   "execution_count": null,
   "id": "a07950c3",
   "metadata": {},
   "outputs": [
    {
     "ename": "ModuleNotFoundError",
     "evalue": "No module named 'joblib'",
     "output_type": "error",
     "traceback": [
      "\u001b[31m---------------------------------------------------------------------------\u001b[39m",
      "\u001b[31mModuleNotFoundError\u001b[39m                       Traceback (most recent call last)",
      "\u001b[36mCell\u001b[39m\u001b[36m \u001b[39m\u001b[32mIn[1]\u001b[39m\u001b[32m, line 5\u001b[39m\n\u001b[32m      3\u001b[39m \u001b[38;5;28;01mimport\u001b[39;00m\u001b[38;5;250m \u001b[39m\u001b[34;01mrequests\u001b[39;00m\n\u001b[32m      4\u001b[39m \u001b[38;5;28;01mimport\u001b[39;00m\u001b[38;5;250m \u001b[39m\u001b[34;01mpandas\u001b[39;00m\u001b[38;5;250m \u001b[39m\u001b[38;5;28;01mas\u001b[39;00m\u001b[38;5;250m \u001b[39m\u001b[34;01mpd\u001b[39;00m\n\u001b[32m----> \u001b[39m\u001b[32m5\u001b[39m \u001b[38;5;28;01mimport\u001b[39;00m\u001b[38;5;250m \u001b[39m\u001b[34;01mjoblib\u001b[39;00m\n",
      "\u001b[31mModuleNotFoundError\u001b[39m: No module named 'joblib'"
     ]
    }
   ],
   "source": [
    "import os\n",
    "from dotenv import load_dotenv\n",
    "import requests\n",
    "import pandas as pd\n",
    "import joblib\n",
    "\n",
    "\n",
    "load_dotenv()  # Load environment variables from .env\n",
    "\n",
    "api_key = os.getenv(\"GECKO_API\")  # Get API key from .env\n",
    "coin_id = \"bitcoin\"\n",
    "vs_currency = \"usd\"\n",
    "days = \"30\"\n",
    "\n",
    "\n",
    "\n",
    "def fetch_token_price_history(token_ids, vs_currency=\"usd\", days=\"30\"):\n",
    "    \"\"\"\n",
    "    Fetch historical price data for multiple tokens from CoinGecko Pro API.\n",
    "    \n",
    "    Args:\n",
    "        token_ids (list): List of token ids (e.g., ['bitcoin', 'ethereum']).\n",
    "        vs_currency (str): The target currency (default 'usd').\n",
    "        days (str): Number of days to fetch (default '30').\n",
    "        \n",
    "    Returns:\n",
    "        pd.DataFrame: DataFrame with timestamps as index and tokens as columns.\n",
    "    \"\"\"\n",
    "    \n",
    "    load_dotenv()\n",
    "    api_key = os.getenv(\"GECKO_API\")\n",
    "    price_dfs = []\n",
    "\n",
    "    for coin_id in token_ids:\n",
    "        url = f\"https://pro-api.coingecko.com/api/v3/coins/{coin_id}/market_chart\"\n",
    "        params = {\n",
    "            \"vs_currency\": vs_currency,\n",
    "            \"days\": days\n",
    "        }\n",
    "        headers = {\n",
    "            \"accept\": \"application/json\",\n",
    "            \"x-cg-pro-api-key\": api_key\n",
    "        }\n",
    "        response = requests.get(url, headers=headers, params=params)\n",
    "        data = response.json()\n",
    "        df = pd.DataFrame(data['prices'], columns=['timestamp', coin_id])\n",
    "        df['timestamp'] = pd.to_datetime(df['timestamp'], unit='ms')\n",
    "        df.set_index('timestamp', inplace=True)\n",
    "        df = df.resample('1h').last()  # or '1D' for daily\n",
    "        price_dfs.append(df)\n",
    "        \n",
    "\n",
    "    # Merge all dataframes on timestamp\n",
    "    result_df = pd.concat(price_dfs, axis=1)\n",
    "    return result_df\n",
    "    "
   ]
  },
  {
   "cell_type": "code",
   "execution_count": null,
   "id": "79dfa889",
   "metadata": {},
   "outputs": [],
   "source": [
    "# Example: Get tokens from user input\n",
    "tokens = input(\"Enter token IDs separated by commas (e.g., bitcoin,ethereum,solana): \").split(\",\")\n",
    "tokens = [t.strip() for t in tokens]\n",
    "\n",
    "df_prices = fetch_token_price_history(tokens, days=\"30\")\n",
    "print(df_prices.head())\n",
    "\n",
    "# Save with joblib if needed\n",
    "save_dir = \"/Users/olaoluwatunmise/token-heatmap/Database\"\n",
    "os.makedirs(save_dir, exist_ok=True)\n",
    "joblib.dump(df_prices, os.path.join(save_dir, \"df_prices.joblib\"))"
   ]
  }
 ],
 "metadata": {
  "kernelspec": {
   "display_name": "token_correlation",
   "language": "python",
   "name": "python3"
  },
  "language_info": {
   "codemirror_mode": {
    "name": "ipython",
    "version": 3
   },
   "file_extension": ".py",
   "mimetype": "text/x-python",
   "name": "python",
   "nbconvert_exporter": "python",
   "pygments_lexer": "ipython3",
   "version": "3.13.6"
  }
 },
 "nbformat": 4,
 "nbformat_minor": 5
}
